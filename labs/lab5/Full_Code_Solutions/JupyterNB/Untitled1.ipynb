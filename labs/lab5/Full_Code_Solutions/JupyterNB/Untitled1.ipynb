{
 "cells": [
  {
   "cell_type": "code",
   "execution_count": 2,
   "id": "e2c8bd10-6e1f-4284-8fae-b44a300aec32",
   "metadata": {},
   "outputs": [
    {
     "name": "stdout",
     "output_type": "stream",
     "text": [
      "+--------+---------+---------+\n",
      "|model_id|car_brand|car_model|\n",
      "+--------+---------+---------+\n",
      "|1       |Mazda    |3        |\n",
      "|2       |Mazda    |6        |\n",
      "|3       |Toyota   |Corolla  |\n",
      "|4       |Hyundai  |i20      |\n",
      "+--------+---------+---------+\n",
      "only showing top 4 rows\n",
      "\n"
     ]
    }
   ],
   "source": [
    "from pyspark.sql import SparkSession\n",
    "from pyspark.sql import functions as F\n",
    "from pyspark.sql import types as T\n",
    "from pyspark.sql.types import StructType, StructField, IntegerType, LongType, StringType\n",
    "\n",
    "\n",
    "# Create a Spark session\n",
    "spark = SparkSession \\\n",
    "        .builder \\\n",
    "        .master(\"local[*]\") \\\n",
    "        .appName('taxi') \\\n",
    "        .config('spark.jars.packages', 'org.apache.spark:spark-sql-kafka-0-10_2.12:3.1.2') \\\n",
    "        .config(\"fs.s3a.endpoint\", \"http://minio:9000\") \\\n",
    "        .config(\"fs.s3a.access.key\", \"minioadmin\") \\\n",
    "        .config(\"fs.s3a.secret.key\", \"minioadmin\") \\\n",
    "        .config(\"fs.s3a.path.style.access\", \"true\") \\\n",
    "        .config(\"spark.hadoop.fs.s3a.impl\", \"org.apache.hadoop.fs.s3a.S3AFileSystem\") \\\n",
    "        .config(\"spark.hadoop.fs.s3a.aws.credentials.provider\", \"org.apache.hadoop.fs.s3a.SimpleAWSCredentialsProvider\") \\\n",
    "        .getOrCreate()\n",
    "\n",
    " \n",
    "    \n",
    "static_data_df = spark.read.parquet('s3a://spark/data/car_models')\n",
    "\n",
    "static_data_df.show(4,False)\n",
    "    \n",
    "# Stop the Spark session\n",
    "spark.stop()\n"
   ]
  },
  {
   "cell_type": "code",
   "execution_count": null,
   "id": "116729de-dd28-489c-aec4-e873fddbb358",
   "metadata": {},
   "outputs": [],
   "source": []
  }
 ],
 "metadata": {
  "kernelspec": {
   "display_name": "Python 3 (ipykernel)",
   "language": "python",
   "name": "python3"
  },
  "language_info": {
   "codemirror_mode": {
    "name": "ipython",
    "version": 3
   },
   "file_extension": ".py",
   "mimetype": "text/x-python",
   "name": "python",
   "nbconvert_exporter": "python",
   "pygments_lexer": "ipython3",
   "version": "3.10.7"
  }
 },
 "nbformat": 4,
 "nbformat_minor": 5
}
